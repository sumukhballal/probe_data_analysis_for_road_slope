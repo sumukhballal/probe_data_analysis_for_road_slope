{
 "cells": [
  {
   "cell_type": "markdown",
   "metadata": {
    "id": "6ThqBQCrzPmJ"
   },
   "source": [
    "# Calculations without CuPy or Cudf"
   ]
  },
  {
   "cell_type": "code",
   "execution_count": 52,
   "metadata": {
    "id": "iT8QKfG9DAr0"
   },
   "outputs": [],
   "source": [
    "import pandas as pd\n",
    "import numpy as np\n",
    "from math import sin, cos, sqrt, atan2, radians, degrees, acos, asin, pi, atan, isnan\n",
    "import progressbar\n",
    "import time\n",
    "#import cupy as cp"
   ]
  },
  {
   "cell_type": "code",
   "execution_count": 45,
   "metadata": {
    "id": "Byq7AucVDAr-"
   },
   "outputs": [],
   "source": [
    "PROBE_DATA_PATH = \"./input/Partition6467ProbePoints.csv\"\n",
    "LINK_DATA_PATH=\"./input/Partition6467LinkData.csv\"\n",
    "OUTPUT_MATCHED_PATH=\"./output/MatchedProbePoint.csv\"\n",
    "OUTPUT_MATCHED_PATH_WITH_DIRECTION=\"./output/MatchedProbePointWithDirection.csv\"\n",
    "OUTPUT_SLOPE_DATA_PATH=\"./output/SlopeData.csv\"\n",
    "EVALUATE_SLOPE_DATA_PATH=\"./output/EvaluateSlopeData.csv\""
   ]
  },
  {
   "cell_type": "code",
   "execution_count": 8,
   "metadata": {
    "id": "vhMbvtwaDAsA"
   },
   "outputs": [],
   "source": [
    "probe_col_names=[\"sampleID\", \"dateTime\", \"sourceCode\", \"latitude\", \"longitude\", \"altitude\", \"speed\", \"heading\"]\n",
    "probe_data = pd.read_csv(PROBE_DATA_PATH,header=None,names=probe_col_names)"
   ]
  },
  {
   "cell_type": "code",
   "execution_count": 77,
   "metadata": {
    "id": "66DzA7eYDAsA"
   },
   "outputs": [],
   "source": [
    "link_col_names=[\"linkPVID\", \"refNodeID\", \"nrefNodeID\", \"length\", \"functionalClass\", \"directionOfTravel\", \"speedCategory\", \"fromRefSpeedLimit\", \"toRefSpeedLimit\", \"fromRefNumLanes\", \"toRefNumLanes\", \"multiDigitized\", \"urban\", \"timeZone\", \"shapeInfo\", \"curvatureInfo\", \"slopeInfo\"]\n",
    "link_data = pd.read_csv(LINK_DATA_PATH,header=None,names=link_col_names)\n",
    "link_data['slopeInfo']=link_data['slopeInfo'].astype(str)"
   ]
  },
  {
   "cell_type": "markdown",
   "metadata": {
    "id": "3kAJJ5tTDAsC"
   },
   "source": [
    "- No null values in probe data\n",
    "- In LinkData: 159289 curvature info missing, 146572 slope info missing\n",
    "\n",
    "\n"
   ]
  },
  {
   "cell_type": "markdown",
   "metadata": {
    "id": "mKSIbimp0EwN"
   },
   "source": [
    "### Preprocess Link Data"
   ]
  },
  {
   "cell_type": "code",
   "execution_count": 10,
   "metadata": {
    "id": "ObJtd9GrDAsG"
   },
   "outputs": [],
   "source": [
    "# A function that process the shapeInfo and returns an array of shape points (ref,shape points, non-ref)\n",
    "def process_shapeInfo(df):\n",
    "  bar = progressbar.ProgressBar(maxval=df.shape[0], \\\n",
    "  widgets=[progressbar.Bar('=', '[', ']'), ' ', progressbar.Percentage()])\n",
    "  bar.start()\n",
    "  i=0\n",
    "  shape_points = []\n",
    "  shapeInfo = df['shapeInfo'];\n",
    "  \n",
    "  for data in shapeInfo:\n",
    "    points = data.split('|');\n",
    "    temp_list=[]\n",
    "    for point in points:\n",
    "      temp = point.split('/')\n",
    "      coord = (float(temp[0]),float(temp[1]))\n",
    "      temp_list.append(coord)\n",
    "\n",
    "    shape_points.append(temp_list)\n",
    "    i+=1\n",
    "    bar.update(i)\n",
    "\n",
    "  bar.finish()\n",
    "  return shape_points\n",
    "  "
   ]
  },
  {
   "cell_type": "markdown",
   "metadata": {
    "id": "e7UKf3TkjuyY"
   },
   "source": [
    "### Calculate midpoint for each link"
   ]
  },
  {
   "cell_type": "markdown",
   "metadata": {
    "id": "BbrVqKoKjuyY"
   },
   "source": [
    "Formula referenced from [Movable Type Scripts](http://www.movable-type.co.uk/scripts/latlong.html)"
   ]
  },
  {
   "cell_type": "code",
   "execution_count": 11,
   "metadata": {
    "id": "GufBaobvjuyZ"
   },
   "outputs": [],
   "source": [
    "def mid_point(lat1,lon1,lat2,lon2):\n",
    "    # convert lats and lons to radian \n",
    "    lat1 = radians(lat1)\n",
    "    lon1 = radians(lon1)\n",
    "    lat2 = radians(lat2)\n",
    "    lon2 = radians(lon2)\n",
    "    \n",
    "    # calculate bearings\n",
    "    Bx = cos(lat2) * cos(lon2-lon1)\n",
    "    By = cos(lat2) * sin(lon2-lon1)\n",
    "    \n",
    "    # calculate mid point\n",
    "    latMid = atan2(sin(lat1) + sin(lat2), sqrt((cos(lat1)+Bx)**2+ By**2))\n",
    "    lonMid = lon1 + atan2(By, cos(lat1) + Bx)\n",
    "\n",
    "    # convert to degrees\n",
    "    latMid = degrees(latMid)\n",
    "    lonMid = degrees(lonMid)\n",
    "    \n",
    "    return (latMid,lonMid)"
   ]
  },
  {
   "cell_type": "markdown",
   "metadata": {
    "id": "-3FraSYc2oOb"
   },
   "source": [
    "### To calculate distance between two points\n"
   ]
  },
  {
   "cell_type": "markdown",
   "metadata": {
    "id": "ubD_U9ab4rVx"
   },
   "source": [
    "Uses the **Haversine** formula to calculate the great-circle distance between two points – that is, the shortest distance over the earth’s surface\n",
    "[stackoverflow answer](https://stackoverflow.com/questions/19412462/getting-distance-between-two-points-based-on-latitude-longitude/43211266#43211266)"
   ]
  },
  {
   "cell_type": "code",
   "execution_count": 12,
   "metadata": {
    "id": "v6n7HDkO3lkr"
   },
   "outputs": [],
   "source": [
    "def point_distance(lat1,lon1,lat2,lon2):\n",
    "  # approximate radius of earth in km\n",
    "  R = 6371.0\n",
    "\n",
    "  lat1 = radians(lat1)\n",
    "  lon1 = radians(lon1)\n",
    "  lat2 = radians(lat2)\n",
    "  lon2 = radians(lon2)\n",
    "\n",
    "  dlon = lon2 - lon1\n",
    "  dlat = lat2 - lat1\n",
    "\n",
    "  a = sin(dlat / 2)**2 + cos(lat1) * cos(lat2) * sin(dlon / 2)**2\n",
    "  c = 2 * atan2(sqrt(a), sqrt(1 - a))\n",
    "\n",
    "  distance = R * c\n",
    "  return distance"
   ]
  },
  {
   "cell_type": "markdown",
   "metadata": {
    "id": "zqhJWk-gMTA2"
   },
   "source": [
    "### To calculate smallest distance between a point and a line"
   ]
  },
  {
   "cell_type": "markdown",
   "metadata": {
    "id": "_y9hq7KeMl9Z"
   },
   "source": [
    "Formula referenced from [stackoverflow](https://stackoverflow.com/questions/20231258/minimum-distance-between-a-point-and-a-line-in-latitude-longitude) as well as [this website](http://www.movable-type.co.uk/scripts/latlong.html)"
   ]
  },
  {
   "cell_type": "code",
   "execution_count": 13,
   "metadata": {
    "id": "VEDNSfsrQRJa"
   },
   "outputs": [],
   "source": [
    "def min_distance_point_to_line(lat1,lon1,lat2,lon2,lat3,lon3):\n",
    "\n",
    "  # Supposed we have a line defined by A and B, and a point C\n",
    "  # A and B = lat1,lon1,lat2,lon2\n",
    "  # point C = lat3,lon3\n",
    "  \n",
    "  R = 6371.0\n",
    "  # 1. Find the bearing from A to C and A to B\n",
    "  # Bearing A to C\n",
    "  y = sin(lon3 - lon1) * cos(lat3)\n",
    "  x = cos(lat1) * sin(lat3) - sin(lat1) * cos(lat3) * cos(lat3 - lat1)\n",
    "  bearing1 = atan2(y, x)\n",
    "  bearing1 = (bearing1*180/pi+360) % 360 #degrees\n",
    "  \n",
    "  # Bearing A to B\n",
    "  y2 = sin(lon2 - lon1) * cos(lat2)\n",
    "  x2 = cos(lat1) * sin(lat2) - sin(lat1) * cos(lat2) * cos(lat2 - lat1)\n",
    "  bearing2 = atan2(y2, x2)\n",
    "  bearing2 = (bearing2*180/pi+360) % 360  #degrees\n",
    "\n",
    "  lat1Rads = radians(lat1)\n",
    "  lat3Rads = radians(lat3)\n",
    "  dLon = radians(lon3 - lon1)\n",
    "\n",
    "  # 2. Find distance from A to C using spherical law of consines\n",
    "  distanceAC = acos(sin(lat1Rads) * sin(lat3Rads)+cos(lat1Rads)*cos(lat3Rads)*cos(dLon)) * R\n",
    "\n",
    "  # 3. Find cross-track distance\n",
    "  min_distance = abs(asin(sin(distanceAC/R)*sin(radians(bearing1)-radians(bearing2))) * R)\n",
    "\n",
    "  return min_distance"
   ]
  },
  {
   "cell_type": "markdown",
   "metadata": {
    "id": "MixrrEMZjuyd"
   },
   "source": [
    "### To search for the index of the closest link to the probe"
   ]
  },
  {
   "cell_type": "code",
   "execution_count": 14,
   "metadata": {
    "id": "lgMHCGG2juye"
   },
   "outputs": [],
   "source": [
    "# binary search the closest link to the probe with distance from bottom left of bounding box\n",
    "def closest_link_index(probe_distance, link_distances, start, end):\n",
    "    if start < end:\n",
    "        mid = (start + end) // 2\n",
    "\n",
    "        if probe_distance < link_distances[mid]:\n",
    "            return closest_link_index(probe_distance, link_distances, start, mid-1)\n",
    "        else:\n",
    "            return closest_link_index(probe_distance, link_distances, mid+1, end)\n",
    "    else:\n",
    "        return start"
   ]
  },
  {
   "cell_type": "markdown",
   "metadata": {
    "id": "GGgf6-RWWWAa"
   },
   "source": [
    "<br></br>\n",
    "### Map Matching"
   ]
  },
  {
   "cell_type": "code",
   "execution_count": 15,
   "metadata": {
    "id": "hdB2aO-OAV6v"
   },
   "outputs": [],
   "source": [
    "def map_matching(probe_data,link_data,threshold): \n",
    "  bar = progressbar.ProgressBar(maxval=probe_data.shape[0], \\\n",
    "  widgets=[progressbar.Bar('=', '[', ']'), ' ', progressbar.Percentage()])\n",
    "  bar.start()\n",
    "  j=0\n",
    "\n",
    "  # change threshold to threshold / 2 to account for link distances that are greater and smaller than the probe distance\n",
    "  threshold = threshold // 2\n",
    "  \n",
    "  # create a dataframe for the matchedpoints output\n",
    "  matched_points = probe_data.copy()\n",
    "    \n",
    "  # add required columns in the dataframe, filled with default values\n",
    "  matched_points['linkPVID']=0 # LinkID from link_data\n",
    "  matched_points['direction']='F' # the direction the vehicle was travelling on thelink (F = from ref node, T = towards ref node)\n",
    "  matched_points['distFromRef']=0.0 # the distance from the reference node to the map-matched probe point location on the link in decimal meters\n",
    "  matched_points['distFromLink']=0.0 # the perpendicular distance from the map-matched probe point location on the link to the probe point in decimal meters\n",
    "\n",
    "  # iterate through entire probe data, for each probe point, iterate through entire link data to find link with min distFromLink\n",
    "  for probe in matched_points.itertuples():\n",
    "    start_time = time.time()\n",
    "    \n",
    "    probe_point = (probe.latitude,probe.longitude)\n",
    "    min_dist = float('inf')  # start with min dist as positive infinity\n",
    "    \n",
    "    # look for closest link\n",
    "    closest_link = closest_link_index(probe.probe_distance, link_data['midpoint_distance'], 0, len(link_data))\n",
    "    \n",
    "    # define search area with threshold\n",
    "    begin_search = closest_link - threshold if closest_link - threshold >= 0 else 0\n",
    "    end_search = closest_link + threshold if closest_link + threshold <= len(link_data) else len(link_data)\n",
    "    \n",
    "    for link in link_data[begin_search:end_search].itertuples():\n",
    "      shape_arr = link.shape_points\n",
    "\n",
    "      # if no curvatureInfo exist for this link (meaning a straight link), use only the ref and non-ref point to calculate\n",
    "      if pd.isnull(link.curvatureInfo):  \n",
    "        ref= shape_arr[0] #ref node is at index 0\n",
    "        non_ref= shape_arr[len(shape_arr)-1] # non-ref node is at the last index\n",
    "        temp = min_distance_point_to_line(ref[0],ref[1],non_ref[0],non_ref[1],probe_point[0],probe_point[1])\n",
    "        if temp < min_dist:\n",
    "          min_dist = temp\n",
    "          linkID = link.linkPVID\n",
    "          min_link_ref = ref= shape_arr[0]\n",
    "      \n",
    "      # if curvatureInfo exist, use all provided points, calculate the min distance from probe point to each of the intermediate link segment\n",
    "      else:\n",
    "        # iterate through all pairs consecutive pairs of shape points and calculate the line-point distance for each pair\n",
    "        for i in range(len(shape_arr)-1):\n",
    "          p1 = shape_arr[i]\n",
    "          p2 = shape_arr[i+1]\n",
    "          temp = min_distance_point_to_line(shape_arr[i][0],shape_arr[i][1],shape_arr[i+1][0],shape_arr[i+1][0],probe_point[0],probe_point[1])\n",
    "          if temp < min_dist:\n",
    "            min_dist = temp\n",
    "            linkID = link.linkPVID\n",
    "            min_link_ref = ref= shape_arr[0]\n",
    "      \n",
    "    # set found min_distance and corresponding linkPVID for this probe\n",
    "    matched_points.at[probe.Index,'linkPVID']=linkID\n",
    "    matched_points.at[probe.Index,'distFromLink']=min_dist\n",
    "\n",
    "    # calculate distFromRef (dist from probe to ref node)\n",
    "    distFromRef = point_distance(probe_point[0],probe_point[1],min_link_ref[0],min_link_ref[1])\n",
    "    matched_points.at[probe.Index,'distFromRef']=distFromRef\n",
    "    j+=1\n",
    "    bar.update(j)\n",
    "    \n",
    "    end_time = time.time()\n",
    "    #print(f\"Time for {j}: {end_time - start_time}\")\n",
    "\n",
    "  bar.finish()\n",
    "  return matched_points\n",
    "\n"
   ]
  },
  {
   "cell_type": "markdown",
   "metadata": {
    "id": "rINqH7HNjuyg"
   },
   "source": [
    "### Main Program"
   ]
  },
  {
   "cell_type": "code",
   "execution_count": 16,
   "metadata": {
    "id": "iITKYQWrjuyh",
    "outputId": "ac6eaff3-9abd-41d9-c554-bf9b7bb50fc7"
   },
   "outputs": [
    {
     "name": "stderr",
     "output_type": "stream",
     "text": [
      "[========================================================================] 100%\n"
     ]
    }
   ],
   "source": [
    "# process shape info\n",
    "shape_points = process_shapeInfo(link_data)\n",
    "\n",
    "if len(shape_points) == link_data.shape[0]: \n",
    "    # Add the returned list as a new column in the dataframe\n",
    "    link_data['shape_points'] = shape_points\n",
    "else:\n",
    "    print(\"Something went wrong in the shape processing\")"
   ]
  },
  {
   "cell_type": "code",
   "execution_count": 17,
   "metadata": {
    "id": "UXhkJuK-juyi"
   },
   "outputs": [],
   "source": [
    "# calculate all midpoints in link\n",
    "midpoints = []\n",
    "\n",
    "for shape in link_data['shape_points']:\n",
    "    point1 = shape[0]\n",
    "    point2 = shape[-1]\n",
    "    midpoints.append(mid_point(point1[0],point1[1],point2[0],point2[1]))\n",
    "\n",
    "# add new column midpoint to the dataframe\n",
    "link_data['mid_point'] = midpoints"
   ]
  },
  {
   "cell_type": "code",
   "execution_count": 18,
   "metadata": {
    "id": "c6PEBnfkjuyj"
   },
   "outputs": [],
   "source": [
    "# calculate distance from probe points to bottom left corner of bounding box\n",
    "bottom_left_distance = []\n",
    "bottom_left_coord = (50.62500, 8.43751)\n",
    "\n",
    "for probe in probe_data.itertuples():\n",
    "    d = point_distance(probe.latitude,probe.longitude,bottom_left_coord[0],bottom_left_coord[1])\n",
    "    bottom_left_distance.append(d)\n",
    "\n",
    "# add new column midpoint_distance to the dataframe\n",
    "probe_data['probe_distance'] = bottom_left_distance\n"
   ]
  },
  {
   "cell_type": "code",
   "execution_count": 19,
   "metadata": {
    "id": "0m1q1Si-juyj"
   },
   "outputs": [],
   "source": [
    "# calculate distance from mid points to bottom left corner of bounding box\n",
    "bottom_left_distance = []\n",
    "\n",
    "for midpoint in link_data['mid_point']:\n",
    "    d = point_distance(midpoint[0],midpoint[1],bottom_left_coord[0],bottom_left_coord[1])\n",
    "    bottom_left_distance.append(d)\n",
    "\n",
    "# add new column midpoint_distance to the dataframe\n",
    "link_data['midpoint_distance'] = bottom_left_distance"
   ]
  },
  {
   "cell_type": "code",
   "execution_count": 20,
   "metadata": {
    "id": "7quGWUxwjuyk",
    "scrolled": true
   },
   "outputs": [],
   "source": [
    "# sorting links by distance from midpoint to bottom left of bounding box\n",
    "link_data = link_data.sort_values('midpoint_distance')"
   ]
  },
  {
   "cell_type": "code",
   "execution_count": 21,
   "metadata": {
    "id": "bsRgAU70juyk",
    "outputId": "e169964c-c429-44de-edc3-efc9b3a58bef",
    "scrolled": false
   },
   "outputs": [
    {
     "name": "stderr",
     "output_type": "stream",
     "text": [
      "[========================================================================] 100%\n"
     ]
    }
   ],
   "source": [
    "# map matching\n",
    "threshold = 50 # This is number of closest links that each probe is going to process\n",
    "matched_points = map_matching(probe_data,link_data, threshold)"
   ]
  },
  {
   "cell_type": "code",
   "execution_count": 25,
   "metadata": {},
   "outputs": [],
   "source": [
    "print(\"Writing MATCHED Points to csv! \")\n",
    "matched_points.to_csv(OUTPUT_MATCHED_PATH,header=True, index=False)"
   ]
  },
  {
   "cell_type": "markdown",
   "metadata": {
    "id": "k4WXoJZWjuyl"
   },
   "source": [
    "<br></br>\n",
    "## Determine Direction of Travel"
   ]
  },
  {
   "cell_type": "markdown",
   "metadata": {
    "id": "2Ttc0CSejuyl"
   },
   "source": [
    "### To calculate position a probe point has travelled after one minute in the given speed and heading"
   ]
  },
  {
   "cell_type": "code",
   "execution_count": 22,
   "metadata": {
    "id": "AKMxckCjjuym"
   },
   "outputs": [],
   "source": [
    "def position_after_one_min(lat,lon,speed,heading):\n",
    "    # this function takes the current lat and lon position of the probe, speed in KPH, and heading(bearing) of probe\n",
    "\n",
    "    # convert speed in KPH to KPM and use that as distance travelled in km in one minute\n",
    "    dist = speed/60\n",
    "    \n",
    "    R = 6371.0  # radius of the Earth\n",
    "    bearing = radians(heading) # convert bearing to radians\n",
    "    \n",
    "\n",
    "    lat = radians(52.20472) \n",
    "    lon = radians(0.14056) \n",
    "\n",
    "    result_lat = asin(sin(lat)*cos(dist/R) + cos(lat)*sin(dist/R)*cos(bearing))\n",
    "\n",
    "    result_lon = lon + atan2(sin(bearing)*sin(dist/R)*cos(lat),cos(dist/R)-sin(lat)*sin(result_lat))\n",
    "\n",
    "    result_lat = degrees(result_lat)\n",
    "    result_lon = degrees(result_lon)\n",
    "\n",
    "    return (result_lat,result_lon)"
   ]
  },
  {
   "cell_type": "code",
   "execution_count": 42,
   "metadata": {
    "id": "EoJCpS0Ujuym"
   },
   "outputs": [],
   "source": [
    "def direction_of_travel(matched_points,link_data):\n",
    "    # This function takes goes through each matched probe point and dtermine the direction of travel for that point\n",
    "    bar = progressbar.ProgressBar(maxval=probe_data.shape[0], \\\n",
    "    widgets=[progressbar.Bar('=', '[', ']'), ' ', progressbar.Percentage()])\n",
    "    bar.start()\n",
    "    j=0\n",
    "    \n",
    "    # Create a copy of the matched_points dataframe as the complete_matched_points output\n",
    "    complete_matched_points = matched_points.copy()\n",
    "    \n",
    "    for probe in matched_points.itertuples():\n",
    "        start_time = time.time()\n",
    "        probe_point = (probe.latitude,probe.longitude)\n",
    "        link_ID = probe.linkPVID\n",
    "        \n",
    "        # Look up the ref node lat and lon for this corresponding link in the linkdata dataframe\n",
    "        link_row = link_data[link_data['linkPVID'] == link_ID]\n",
    "        link_ref = link_row.shape_points[link_row.index.values[0]][0]\n",
    "\n",
    "        # Calculate dist between link ref and probe after probe has travelled for one minute\n",
    "        \n",
    "        new_probe_position = position_after_one_min(probe.latitude,probe.longitude,probe.speed, probe.heading)\n",
    "        # Direction for stationary points(speed=0) is N = neither\n",
    "        if probe.speed==0:\n",
    "            complete_matched_points.at[probe.Index,'direction']= 'N'\n",
    "        else:\n",
    "            dist_after_travel = point_distance(new_probe_position[0],new_probe_position[1],probe_point[0],probe_point[1])\n",
    "        \n",
    "        # if distance between probe and ref decreases after travel for 1 min, then it's direction is T = towards ref node\n",
    "        if dist_after_travel < probe.distFromRef:\n",
    "            complete_matched_points.at[probe.Index,'direction']= 'T'\n",
    "        \n",
    "        j+=1\n",
    "        bar.update(j)\n",
    "        end_time = time.time()\n",
    "        #print(f\"Time for {j}: {end_time - start_time}\")   \n",
    "    \n",
    "    bar.finish()\n",
    "    return complete_matched_points"
   ]
  },
  {
   "cell_type": "code",
   "execution_count": 43,
   "metadata": {
    "id": "7tUNPg1Ejuyn"
   },
   "outputs": [
    {
     "name": "stderr",
     "output_type": "stream",
     "text": [
      "[========================================================================] 100%\n"
     ]
    }
   ],
   "source": [
    "complete_matched_points = direction_of_travel(matched_points,link_data)"
   ]
  },
  {
   "cell_type": "markdown",
   "metadata": {
    "id": "ri_8G2ZDjuyn"
   },
   "source": [
    "### Finally, multiply values in distFromRef and distFromLink columns by 1000 to get distances in decimal meters"
   ]
  },
  {
   "cell_type": "code",
   "execution_count": 44,
   "metadata": {
    "id": "Yu186Pqrjuyo"
   },
   "outputs": [],
   "source": [
    "complete_matched_points['distFromRef'] = complete_matched_points['distFromRef'].apply(lambda x: x*1000)\n",
    "complete_matched_points['distFromLink'] = complete_matched_points['distFromLink'].apply(lambda x: x*1000)\n",
    "\n",
    "# write to csv\n",
    "complete_matched_points.to_csv(OUTPUT_MATCHED_PATH_WITH_DIRECTION,header=True, index=False)\n"
   ]
  },
  {
   "cell_type": "markdown",
   "metadata": {},
   "source": [
    "### Calculate Slope function"
   ]
  },
  {
   "cell_type": "code",
   "execution_count": 168,
   "metadata": {},
   "outputs": [],
   "source": [
    "def calculate_slope(matched_points, linkProbePoints):    \n",
    "    bar = progressbar.ProgressBar(maxval=matched_points.shape[0], \\\n",
    "    widgets=[progressbar.Bar('=', '[', ']'), ' ', progressbar.Percentage()])\n",
    "    bar.start()\n",
    "    # Create dataframe\n",
    "    slope_calculate=matched_points.copy()\n",
    "    # Add Slope column\n",
    "    slope_calculate['slope']=0.0\n",
    "    # Iterate over matched data\n",
    "    before_matched_point=None\n",
    "    index=0\n",
    "    slope_degree=0.0\n",
    "    \n",
    "    for current_matched_point in matched_points.itertuples():\n",
    "\n",
    "        if before_matched_point==None or current_matched_point.linkPVID!=before_matched_point.linkPVID :\n",
    "            slope_calculate.at[current_matched_point.Index,'slope']=0.0\n",
    "        else:\n",
    "            # Get latitude and longitudes\n",
    "            lat1=float(current_matched_point.latitude)\n",
    "            lat2=float(before_matched_point.latitude)\n",
    "            long1=float(current_matched_point.longitude)\n",
    "            long2=float(before_matched_point.longitude)\n",
    "            # Use haversine formula to get distance between two points \n",
    "            distance=point_distance(lat1,long1,lat2,long2)\n",
    "            # Get altitude difference\n",
    "            altitude=float(current_matched_point.altitude)-float(before_matched_point.altitude)\n",
    "            # Get slope altitude/distance\n",
    "            \n",
    "            try:\n",
    "                slope=float(altitude/distance)\n",
    "                # Convert to degrees decimal\n",
    "                slope_degree=(2*pi*atan(slope))/360\n",
    "                slope_calculate.at[current_matched_point.Index,'slope']=slope_degree\n",
    "            except ZeroDivisionError:\n",
    "                slope_calculate.at[current_matched_point.Index,'slope']=0.0\n",
    "            \n",
    "            if current_matched_point.linkPVID in linkProbePoints:\n",
    "                linkProbePoints[current_matched_point.linkPVID]=max(linkProbePoints.get(current_matched_point.linkPVID), slope_calculate.at[current_matched_point.Index,'slope'])\n",
    "            else:\n",
    "                linkProbePoints[current_matched_point.linkPVID]=slope_calculate.at[current_matched_point.Index,'slope']\n",
    "#             for link in link_data.itertuples():\n",
    "#                 if link.linkPVID==current_matched_point.linkPVID and link.slopeInfo!='nan':\n",
    "#                     if link.linkPVID in linkProbePoints:\n",
    "#                         linkProbePoints[link.linkPVID].append(slope_calculate.at[current_matched_point.Index,'slope'])\n",
    "#                     else:\n",
    "#                         linkProbePoints[link.linkPVID]=[]\n",
    "#                         linkProbePoints[link.linkPVID].append(slope_calculate.at[current_matched_point.Index,'slope'])\n",
    "#                     break\n",
    "        \n",
    "        # Assign it to matched point current\n",
    "        slope_calculate.at[current_matched_point.Index,'slope']=slope_degree  \n",
    "        index+=1\n",
    "        #print(index, end=\" \")\n",
    "        bar.update(index)\n",
    "        before_matched_point=current_matched_point\n",
    "    \n",
    "    bar.finish()\n",
    "    \n",
    "    return slope_calculate"
   ]
  },
  {
   "cell_type": "markdown",
   "metadata": {},
   "source": [
    "### Calculate the slope from matched points"
   ]
  },
  {
   "cell_type": "code",
   "execution_count": 170,
   "metadata": {},
   "outputs": [
    {
     "name": "stderr",
     "output_type": "stream",
     "text": [
      "[========================================================================] 100%\n"
     ]
    },
    {
     "name": "stdout",
     "output_type": "stream",
     "text": [
      "Writing Slope Data to CSV\n"
     ]
    }
   ],
   "source": [
    "linkProbePoints={}\n",
    "calculated_slope = calculate_slope(complete_matched_points, linkProbePoints)\n",
    "\n",
    "# write to csv\n",
    "print(\"Writing Slope Data to CSV\")\n",
    "calculated_slope.to_csv(OUTPUT_SLOPE_DATA_PATH,header=True, index=False)"
   ]
  },
  {
   "cell_type": "markdown",
   "metadata": {},
   "source": [
    "### Evaluate calculated slope with given slope"
   ]
  },
  {
   "cell_type": "code",
   "execution_count": 171,
   "metadata": {},
   "outputs": [],
   "source": [
    "def calc_avg_slope_matched_points(dataframe, linkID):\n",
    "    \n",
    "    size=0\n",
    "    sum_avg_slope=0.0\n",
    "    for point in dataframe.itertuples():\n",
    "        if point.linkPVID==linkID:\n",
    "            sum_avg_slope+=point.slope\n",
    "            size+=1\n",
    "    \n",
    "    return float(sum_avg_slope/size)"
   ]
  },
  {
   "cell_type": "code",
   "execution_count": 172,
   "metadata": {},
   "outputs": [],
   "source": [
    "def calc_avg_slope_link_data(dataframe, linkID):\n",
    "    \n",
    "    sum_slope_given=0.0\n",
    "    \n",
    "    for link in dataframe.itertuples():\n",
    "            # Calculate average slope from given slope info\n",
    "        if link.linkPVID==linkID and link.slopeInfo!='nan':\n",
    "            slope_length_given=len(link.slopeInfo.strip().split('|'))\n",
    "            for slope_point in link.slopeInfo.strip().split('|'):\n",
    "                slope_point_split=float(slope_point.strip().split('/')[1])\n",
    "                sum_slope_given+=slope_point_split\n",
    "                \n",
    "            return float(sum_slope_given/slope_length_given)\n",
    "        else:\n",
    "            return None\n",
    "            \n",
    "    return None"
   ]
  },
  {
   "cell_type": "code",
   "execution_count": null,
   "metadata": {},
   "outputs": [
    {
     "name": "stdout",
     "output_type": "stream",
     "text": [
      "Evaluate slope\n"
     ]
    }
   ],
   "source": [
    "print(\"Evaluate slope\")\n",
    "result=pd.DataFrame(data=None, columns=['linkPVID','calculated_slope','given_slope'])\n",
    "for link in link_data.itertuples():\n",
    "                    \n",
    "    uniquePVID=link.linkPVID\n",
    "    if uniquePVID in linkProbePoints:\n",
    "        \n",
    "        # Mean for calculated!\n",
    "        c_slope=linkProbePoints.get(uniquePVID)\n",
    "#         c_slope_sum=0.0\n",
    "#         c_slope_size=0\n",
    "#         c_slope=0.0\n",
    "                    \n",
    "#         for linkProbe in linkProbePoints.get(uniquePVID):\n",
    "#             if linkProbe.slope!=0.0:\n",
    "#                 c_slope_sum+=linkProbe.slope\n",
    "#                 c_slope_size+=1\n",
    "        \n",
    "#         if c_slope_size != 0\n",
    "#             c_slope=float(c_slope_sum/c_slope_size)\n",
    "        \n",
    "        # Mean for Given slope\n",
    "        g_slope_sum=0.0\n",
    "        g_slope_size=0\n",
    "        g_slope=0.0       \n",
    "        \n",
    "        if link.slopeInfo!='nan':\n",
    "            for g_slope in link.slopeInfo.strip().split('|'):\n",
    "                g_slope_sum+=float(g_slope.strip().split('/')[1])\n",
    "                g_slope_size+=1\n",
    "        \n",
    "            if g_slope_size != 0:\n",
    "                g_slope=float(g_slope_sum/g_slope_size)\n",
    "        \n",
    "         ## Write to result dataframe\n",
    "        result.at[link.Index,'linkPVID']=uniquePVID\n",
    "        result.at[link.Index, 'given_slope']=g_slope\n",
    "        result.at[link.Index, 'calculated_slope']=c_slope\n",
    "    else:\n",
    "        result.at[link.Index, 'given_slope']=0.0\n",
    "        result.at[link.Index, 'calculated_slope']=0.0 \n",
    "\n",
    "# Print this result to csv\n",
    "print(\"Writing to Evaluate Slope CSV!\")\n",
    "result.to_csv(EVALUATE_SLOPE_DATA_PATH,header=True, index=False)\n",
    "    \n",
    "    \n",
    "    "
   ]
  },
  {
   "cell_type": "code",
   "execution_count": null,
   "metadata": {},
   "outputs": [],
   "source": []
  }
 ],
 "metadata": {
  "colab": {
   "collapsed_sections": [
    "qIQi_pmtzXWj"
   ],
   "name": "hw2_probe_data 58.ipynb",
   "provenance": []
  },
  "kernelspec": {
   "display_name": "Python 3",
   "language": "python",
   "name": "python3"
  },
  "language_info": {
   "codemirror_mode": {
    "name": "ipython",
    "version": 3
   },
   "file_extension": ".py",
   "mimetype": "text/x-python",
   "name": "python",
   "nbconvert_exporter": "python",
   "pygments_lexer": "ipython3",
   "version": "3.8.3"
  }
 },
 "nbformat": 4,
 "nbformat_minor": 1
}
